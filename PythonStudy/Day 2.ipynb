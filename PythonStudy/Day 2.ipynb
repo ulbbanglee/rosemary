{
 "cells": [
  {
   "cell_type": "markdown",
   "metadata": {},
   "source": [
    "# 폴더 조작"
   ]
  },
  {
   "cell_type": "markdown",
   "metadata": {},
   "source": [
    "파일과 폴더, 즉 파일 시스템에 관한 조작은 운영체제의 도움이 필요합니다."
   ]
  },
  {
   "cell_type": "code",
   "execution_count": 1,
   "metadata": {
    "collapsed": true
   },
   "outputs": [],
   "source": [
    "import os"
   ]
  },
  {
   "cell_type": "markdown",
   "metadata": {},
   "source": [
    "폴더 생성하기"
   ]
  },
  {
   "cell_type": "code",
   "execution_count": 3,
   "metadata": {
    "collapsed": false
   },
   "outputs": [],
   "source": [
    "os.makedirs('project')"
   ]
  },
  {
   "cell_type": "code",
   "execution_count": 4,
   "metadata": {
    "collapsed": true
   },
   "outputs": [],
   "source": [
    "os.makedirs('project/docs')"
   ]
  },
  {
   "cell_type": "code",
   "execution_count": 6,
   "metadata": {
    "collapsed": false
   },
   "outputs": [
    {
     "name": "stdout",
     "output_type": "stream",
     "text": [
      "이미 존재하는 폴더\n"
     ]
    }
   ],
   "source": [
    "if not os.path.exists('project'):\n",
    "    os.makedirs('project')\n",
    "else:\n",
    "    print('이미 존재하는 폴더')"
   ]
  },
  {
   "cell_type": "markdown",
   "metadata": {},
   "source": [
    "중간에 폴더가 없으면 해당 폴더들까지 모두 생성해 줍니다."
   ]
  },
  {
   "cell_type": "code",
   "execution_count": 7,
   "metadata": {
    "collapsed": false
   },
   "outputs": [
    {
     "data": {
      "text/plain": [
       "False"
      ]
     },
     "execution_count": 7,
     "metadata": {},
     "output_type": "execute_result"
    }
   ],
   "source": [
    "os.path.exists('project2')"
   ]
  },
  {
   "cell_type": "code",
   "execution_count": 8,
   "metadata": {
    "collapsed": true
   },
   "outputs": [],
   "source": [
    "os.makedirs('project2/docs')"
   ]
  },
  {
   "cell_type": "markdown",
   "metadata": {},
   "source": [
    "#### 연습\n",
    "\n",
    "project 폴더에 2001년부터 2017년까지 연간 폴더 생성\n",
    "\n",
    "1. 각 연도 폴더에 1..12월까지 월별 폴더 생성\n",
    "1. 각 연도 폴더에 README.txt 파일 생성. 각 파일에는 다음과 같은 헤더를 본문에 삽입\n",
    "    \n",
    "    NEXON 2017 (c) 모든 저작권 보유\n",
    "    \n",
    "1. 월별 폴더를 01, 02, ... , 12월과 같은 방식으로 하려면?"
   ]
  },
  {
   "cell_type": "code",
   "execution_count": null,
   "metadata": {
    "collapsed": true
   },
   "outputs": [],
   "source": [
    "# 연도별 경로 생성\n",
    "for 연도 in range(2001, 2018):\n",
    "    경로 = 'project/' + str(연도)       \n",
    "    # 월별 경로 생성\n",
    "    for 월 in range(1, 13):        \n",
    "        월별경로 = os.path.join(경로, str(월) + '월')        \n",
    "        os.makedirs(월별경로)"
   ]
  },
  {
   "cell_type": "code",
   "execution_count": 18,
   "metadata": {
    "collapsed": false
   },
   "outputs": [],
   "source": [
    "# 연도별 README.txt 파일 생성\n",
    "for 연도 in range(2001, 2018):\n",
    "    경로 = os.path.join('project' , str(연도), 'README.txt')\n",
    "    헤더 = 'NEXON {} (c) 모든 저작권 보유.'.format(연도)\n",
    "    파일 = open(경로, 'w', encoding='utf8')\n",
    "    파일.write(헤더)\n",
    "    파일.close()"
   ]
  },
  {
   "cell_type": "code",
   "execution_count": 19,
   "metadata": {
    "collapsed": true
   },
   "outputs": [],
   "source": [
    "os.makedirs('참조')"
   ]
  },
  {
   "cell_type": "markdown",
   "metadata": {},
   "source": [
    "월별 폴더를 01, 02, ... , 12월과 같은 방식으로 하려면?"
   ]
  },
  {
   "cell_type": "code",
   "execution_count": 24,
   "metadata": {
    "collapsed": false
   },
   "outputs": [
    {
     "data": {
      "text/plain": [
       "'1, 2.0'"
      ]
     },
     "execution_count": 24,
     "metadata": {},
     "output_type": "execute_result"
    }
   ],
   "source": [
    "'{0}, {1:.1f}'.format(1, 2)"
   ]
  },
  {
   "cell_type": "code",
   "execution_count": 27,
   "metadata": {
    "collapsed": false
   },
   "outputs": [
    {
     "data": {
      "text/plain": [
       "'1,234,567,890'"
      ]
     },
     "execution_count": 27,
     "metadata": {},
     "output_type": "execute_result"
    }
   ],
   "source": [
    "잔고 = 1234567890\n",
    "'{0:,}'.format(잔고)"
   ]
  },
  {
   "cell_type": "markdown",
   "metadata": {},
   "source": [
    "형식 지정자\n",
    "\n",
    "1. \"두 자리의 정수 2d로 표현해 줘\"\n",
    "1. \"두 자리가 안 되면 나며지는 0으로 채워줘\""
   ]
  },
  {
   "cell_type": "code",
   "execution_count": 30,
   "metadata": {
    "collapsed": false
   },
   "outputs": [
    {
     "data": {
      "text/plain": [
       "'01'"
      ]
     },
     "execution_count": 30,
     "metadata": {},
     "output_type": "execute_result"
    }
   ],
   "source": [
    "'{0:02d}'.format(1)"
   ]
  },
  {
   "cell_type": "code",
   "execution_count": 33,
   "metadata": {
    "collapsed": true
   },
   "outputs": [
    {
     "name": "stdout",
     "output_type": "stream",
     "text": [
      "project\\2017\\01월\n",
      "project\\2017\\02월\n",
      "project\\2017\\03월\n",
      "project\\2017\\04월\n",
      "project\\2017\\05월\n",
      "project\\2017\\06월\n",
      "project\\2017\\07월\n",
      "project\\2017\\08월\n",
      "project\\2017\\09월\n",
      "project\\2017\\10월\n",
      "project\\2017\\11월\n",
      "project\\2017\\12월\n"
     ]
    }
   ],
   "source": [
    "for 월 in range(1, 13):\n",
    "    경로 = os.path.join('project', '2017', '{0:02d}월'.format(월))\n",
    "    print(경로)"
   ]
  },
  {
   "cell_type": "markdown",
   "metadata": {},
   "source": [
    "폴더 내 항목들의 목록"
   ]
  },
  {
   "cell_type": "code",
   "execution_count": 36,
   "metadata": {
    "collapsed": true
   },
   "outputs": [],
   "source": [
    "os.makedirs('참조/log')"
   ]
  },
  {
   "cell_type": "code",
   "execution_count": 37,
   "metadata": {
    "collapsed": false
   },
   "outputs": [
    {
     "data": {
      "text/plain": [
       "['.ipynb_checkpoints',\n",
       " 'fake.xlsx',\n",
       " 'log',\n",
       " 'maybe.csv',\n",
       " 'not.pdf',\n",
       " 'really.txt']"
      ]
     },
     "execution_count": 37,
     "metadata": {},
     "output_type": "execute_result"
    }
   ],
   "source": [
    "항목_리스트 = os.listdir('참조')\n",
    "항목_리스트"
   ]
  },
  {
   "cell_type": "markdown",
   "metadata": {},
   "source": [
    "pdf 파일과 엑셀 파일만 선택하기"
   ]
  },
  {
   "cell_type": "code",
   "execution_count": 39,
   "metadata": {
    "collapsed": false
   },
   "outputs": [
    {
     "data": {
      "text/plain": [
       "['참조\\\\fake.xlsx', '참조\\\\not.pdf']"
      ]
     },
     "execution_count": 39,
     "metadata": {},
     "output_type": "execute_result"
    }
   ],
   "source": [
    "선택항목 = []\n",
    "for 항목 in 항목_리스트:\n",
    "    경로 = os.path.join('참조', 항목)\n",
    "    # 해당 항목이 파일인지 확인\n",
    "    if os.path.isfile(경로):\n",
    "        if '.pdf' in 경로 or '.xlsx' in 경로:\n",
    "            선택항목.append(경로)\n",
    "            \n",
    "선택항목"
   ]
  },
  {
   "cell_type": "markdown",
   "metadata": {},
   "source": [
    "선택된 파일들을 *첨부* 폴더로 복사하기"
   ]
  },
  {
   "cell_type": "code",
   "execution_count": 41,
   "metadata": {
    "collapsed": true
   },
   "outputs": [],
   "source": [
    "if not os.path.exists('첨부'):\n",
    "    os.makedirs('첨부')"
   ]
  },
  {
   "cell_type": "markdown",
   "metadata": {},
   "source": [
    "shutil[쉘유틸]"
   ]
  },
  {
   "cell_type": "code",
   "execution_count": 40,
   "metadata": {
    "collapsed": true
   },
   "outputs": [],
   "source": [
    "import shutil"
   ]
  },
  {
   "cell_type": "code",
   "execution_count": 42,
   "metadata": {
    "collapsed": false
   },
   "outputs": [
    {
     "data": {
      "text/plain": [
       "'참조\\\\fake.xlsx'"
      ]
     },
     "execution_count": 42,
     "metadata": {},
     "output_type": "execute_result"
    }
   ],
   "source": [
    "선택항목[0]"
   ]
  },
  {
   "cell_type": "code",
   "execution_count": 46,
   "metadata": {
    "collapsed": false
   },
   "outputs": [],
   "source": [
    "for 항목 in 선택항목:    \n",
    "    shutil.copy(항목, '첨부')"
   ]
  },
  {
   "cell_type": "markdown",
   "metadata": {},
   "source": [
    "# 오피스 파일 다루기"
   ]
  },
  {
   "cell_type": "code",
   "execution_count": 47,
   "metadata": {
    "collapsed": true
   },
   "outputs": [],
   "source": [
    "import pyautomate"
   ]
  },
  {
   "cell_type": "markdown",
   "metadata": {},
   "source": [
    "## 워드 파일"
   ]
  },
  {
   "cell_type": "code",
   "execution_count": 48,
   "metadata": {
    "collapsed": true
   },
   "outputs": [],
   "source": [
    "from pyautomate import office"
   ]
  },
  {
   "cell_type": "code",
   "execution_count": 49,
   "metadata": {
    "collapsed": true
   },
   "outputs": [],
   "source": [
    "워드파일 = office.Word('파이썬입문2.docx')"
   ]
  },
  {
   "cell_type": "code",
   "execution_count": 50,
   "metadata": {
    "collapsed": false
   },
   "outputs": [
    {
     "data": {
      "text/plain": [
       "'파이썬 입문2'"
      ]
     },
     "execution_count": 50,
     "metadata": {},
     "output_type": "execute_result"
    }
   ],
   "source": [
    "워드파일.paragraphs[0].text"
   ]
  },
  {
   "cell_type": "code",
   "execution_count": 51,
   "metadata": {
    "collapsed": false
   },
   "outputs": [
    {
     "data": {
      "text/plain": [
       "'파이썬 입문2\\n\\n워드 파일 읽기\\n\\n'"
      ]
     },
     "execution_count": 51,
     "metadata": {},
     "output_type": "execute_result"
    }
   ],
   "source": [
    "워드파일.extract_text()"
   ]
  },
  {
   "cell_type": "markdown",
   "metadata": {},
   "source": [
    "워드 파일은 메모장에서 열리지 않습니다. 즉, 텍스트 파일이 아닙니다.\n",
    "\n",
    "그래서, open으로 내용을 가져올 수 없습니다.\n",
    "\n",
    "따라서, 워드 파일의 형식을 이해하는 특수한 모듈이 필요합니다."
   ]
  },
  {
   "cell_type": "code",
   "execution_count": 52,
   "metadata": {
    "collapsed": true
   },
   "outputs": [
    {
     "ename": "UnicodeDecodeError",
     "evalue": "'utf-8' codec can't decode byte 0xd2 in position 16: invalid continuation byte",
     "output_type": "error",
     "traceback": [
      "\u001b[0;31m---------------------------------------------------------------------------\u001b[0m",
      "\u001b[0;31mUnicodeDecodeError\u001b[0m                        Traceback (most recent call last)",
      "\u001b[0;32m<ipython-input-52-957fe07752aa>\u001b[0m in \u001b[0;36m<module>\u001b[0;34m()\u001b[0m\n\u001b[1;32m      1\u001b[0m \u001b[0m파일\u001b[0m \u001b[1;33m=\u001b[0m \u001b[0mopen\u001b[0m\u001b[1;33m(\u001b[0m\u001b[1;34m'파이썬입문2.docx'\u001b[0m\u001b[1;33m,\u001b[0m \u001b[1;34m'r'\u001b[0m\u001b[1;33m,\u001b[0m \u001b[0mencoding\u001b[0m\u001b[1;33m=\u001b[0m\u001b[1;34m'utf8'\u001b[0m\u001b[1;33m)\u001b[0m\u001b[1;33m\u001b[0m\u001b[0m\n\u001b[0;32m----> 2\u001b[0;31m \u001b[0m파일\u001b[0m\u001b[1;33m.\u001b[0m\u001b[0mread\u001b[0m\u001b[1;33m(\u001b[0m\u001b[1;33m)\u001b[0m\u001b[1;33m\u001b[0m\u001b[0m\n\u001b[0m",
      "\u001b[0;32mC:\\ProgramData\\Anaconda3\\lib\\codecs.py\u001b[0m in \u001b[0;36mdecode\u001b[0;34m(self, input, final)\u001b[0m\n\u001b[1;32m    319\u001b[0m         \u001b[1;31m# decode input (taking the buffer into account)\u001b[0m\u001b[1;33m\u001b[0m\u001b[1;33m\u001b[0m\u001b[0m\n\u001b[1;32m    320\u001b[0m         \u001b[0mdata\u001b[0m \u001b[1;33m=\u001b[0m \u001b[0mself\u001b[0m\u001b[1;33m.\u001b[0m\u001b[0mbuffer\u001b[0m \u001b[1;33m+\u001b[0m \u001b[0minput\u001b[0m\u001b[1;33m\u001b[0m\u001b[0m\n\u001b[0;32m--> 321\u001b[0;31m         \u001b[1;33m(\u001b[0m\u001b[0mresult\u001b[0m\u001b[1;33m,\u001b[0m \u001b[0mconsumed\u001b[0m\u001b[1;33m)\u001b[0m \u001b[1;33m=\u001b[0m \u001b[0mself\u001b[0m\u001b[1;33m.\u001b[0m\u001b[0m_buffer_decode\u001b[0m\u001b[1;33m(\u001b[0m\u001b[0mdata\u001b[0m\u001b[1;33m,\u001b[0m \u001b[0mself\u001b[0m\u001b[1;33m.\u001b[0m\u001b[0merrors\u001b[0m\u001b[1;33m,\u001b[0m \u001b[0mfinal\u001b[0m\u001b[1;33m)\u001b[0m\u001b[1;33m\u001b[0m\u001b[0m\n\u001b[0m\u001b[1;32m    322\u001b[0m         \u001b[1;31m# keep undecoded input until the next call\u001b[0m\u001b[1;33m\u001b[0m\u001b[1;33m\u001b[0m\u001b[0m\n\u001b[1;32m    323\u001b[0m         \u001b[0mself\u001b[0m\u001b[1;33m.\u001b[0m\u001b[0mbuffer\u001b[0m \u001b[1;33m=\u001b[0m \u001b[0mdata\u001b[0m\u001b[1;33m[\u001b[0m\u001b[0mconsumed\u001b[0m\u001b[1;33m:\u001b[0m\u001b[1;33m]\u001b[0m\u001b[1;33m\u001b[0m\u001b[0m\n",
      "\u001b[0;31mUnicodeDecodeError\u001b[0m: 'utf-8' codec can't decode byte 0xd2 in position 16: invalid continuation byte"
     ]
    }
   ],
   "source": [
    "파일 = open('파이썬입문2.docx', 'r', encoding='utf8')\n",
    "파일.read()"
   ]
  },
  {
   "cell_type": "markdown",
   "metadata": {},
   "source": [
    "워드 파일 내 표를 추출할 수도 있습니다."
   ]
  },
  {
   "cell_type": "code",
   "execution_count": 53,
   "metadata": {
    "collapsed": false
   },
   "outputs": [
    {
     "data": {
      "text/html": [
       "<div>\n",
       "<table border=\"1\" class=\"dataframe\">\n",
       "  <thead>\n",
       "    <tr style=\"text-align: right;\">\n",
       "      <th></th>\n",
       "      <th>0</th>\n",
       "      <th>1</th>\n",
       "      <th>2</th>\n",
       "    </tr>\n",
       "  </thead>\n",
       "  <tbody>\n",
       "    <tr>\n",
       "      <th>0</th>\n",
       "      <td>A</td>\n",
       "      <td>B</td>\n",
       "      <td>C</td>\n",
       "    </tr>\n",
       "    <tr>\n",
       "      <th>1</th>\n",
       "      <td>1</td>\n",
       "      <td>2</td>\n",
       "      <td>3</td>\n",
       "    </tr>\n",
       "    <tr>\n",
       "      <th>2</th>\n",
       "      <td>4</td>\n",
       "      <td>5</td>\n",
       "      <td>6</td>\n",
       "    </tr>\n",
       "  </tbody>\n",
       "</table>\n",
       "</div>"
      ],
      "text/plain": [
       "   0  1  2\n",
       "0  A  B  C\n",
       "1  1  2  3\n",
       "2  4  5  6"
      ]
     },
     "execution_count": 53,
     "metadata": {},
     "output_type": "execute_result"
    }
   ],
   "source": [
    "워드파일.extract_tables(0)"
   ]
  },
  {
   "cell_type": "markdown",
   "metadata": {},
   "source": [
    "표의 색인 번호를 지정하지 않으면, 문서 내에 삽입된 모든 표들을 리스트로 가져옵니다."
   ]
  },
  {
   "cell_type": "code",
   "execution_count": 55,
   "metadata": {
    "collapsed": false
   },
   "outputs": [],
   "source": [
    "표_리스트 = 워드파일.extract_tables()"
   ]
  },
  {
   "cell_type": "code",
   "execution_count": 56,
   "metadata": {
    "collapsed": false
   },
   "outputs": [
    {
     "data": {
      "text/html": [
       "<div>\n",
       "<table border=\"1\" class=\"dataframe\">\n",
       "  <thead>\n",
       "    <tr style=\"text-align: right;\">\n",
       "      <th></th>\n",
       "      <th>0</th>\n",
       "      <th>1</th>\n",
       "      <th>2</th>\n",
       "    </tr>\n",
       "  </thead>\n",
       "  <tbody>\n",
       "    <tr>\n",
       "      <th>0</th>\n",
       "      <td>A</td>\n",
       "      <td>B</td>\n",
       "      <td>C</td>\n",
       "    </tr>\n",
       "    <tr>\n",
       "      <th>1</th>\n",
       "      <td>1</td>\n",
       "      <td>2</td>\n",
       "      <td>3</td>\n",
       "    </tr>\n",
       "    <tr>\n",
       "      <th>2</th>\n",
       "      <td>4</td>\n",
       "      <td>5</td>\n",
       "      <td>6</td>\n",
       "    </tr>\n",
       "  </tbody>\n",
       "</table>\n",
       "</div>"
      ],
      "text/plain": [
       "   0  1  2\n",
       "0  A  B  C\n",
       "1  1  2  3\n",
       "2  4  5  6"
      ]
     },
     "execution_count": 56,
     "metadata": {},
     "output_type": "execute_result"
    }
   ],
   "source": [
    "표_리스트[0]"
   ]
  },
  {
   "cell_type": "markdown",
   "metadata": {},
   "source": [
    "표를 엑셀 파일로 저장하기"
   ]
  },
  {
   "cell_type": "code",
   "execution_count": 57,
   "metadata": {
    "collapsed": false
   },
   "outputs": [
    {
     "data": {
      "text/plain": [
       "'표.xlsx'"
      ]
     },
     "execution_count": 57,
     "metadata": {},
     "output_type": "execute_result"
    }
   ],
   "source": [
    "워드파일.tables_to_excel('표.xlsx')"
   ]
  },
  {
   "cell_type": "markdown",
   "metadata": {},
   "source": [
    "#### 연습\n",
    "\n",
    "data/turing.docx 파일에 대해 다음을 수행\n",
    "\n",
    "1. 본문을 모두 추출\n",
    "1. 두 번째 문단의 텍스트 추출\n",
    "1. 문서 내 표 추출"
   ]
  },
  {
   "cell_type": "code",
   "execution_count": 58,
   "metadata": {
    "collapsed": true
   },
   "outputs": [],
   "source": [
    "튜링 = office.Word('data/turing.docx')"
   ]
  },
  {
   "cell_type": "code",
   "execution_count": 59,
   "metadata": {
    "collapsed": true
   },
   "outputs": [
    {
     "name": "stdout",
     "output_type": "stream",
     "text": [
      "앨런 튜링\n",
      "앨런 매티슨 튜링(영어: Alan Mathison Turing, OBE, FRS, 1912년 6월 23일 ~ 1954년 6월 7일)은 영국의 수학자, 암호학자, 논리학자이자 컴퓨터 과학의 선구적 인물이다. 1945년에 그가 고안한 튜링 머신은 초보적 형태의 컴퓨터로, 복잡한 계산과 논리 문제를 처리할 수 있었다. 알고리즘과 계산 개념을 튜링 기계라는 추상 모델을 통해 형식화함으로써 컴퓨터 과학의 발전에 지대한 공헌을 했다. 튜링 테스트의 고안으로도 유명하다. \n",
      "튜링상 (Turing Award)\n",
      "ACM에서 컴퓨터 과학에 중요한 업적을 남긴 사람들에게 매년 시상하는 튜링상은 그의 이름을 따 제정한 것이다. 이론 컴퓨터 과학과 인공지능 분야에 지대한 공헌을 했기 때문에 \"컴퓨터 과학의 아버지\"라고 불린다.\n",
      "시대적 수난\n",
      "튜링은 1952년에 당시에는 범죄로 취급되던 동성애 혐의로 영국 경찰에 체포돼 유죄 판결을 받았다. 감옥에 가는 대신 화학적 거세를 받아야 했던 그는, 2년 뒤 청산가리를 넣은 사과를 먹고 자살했다. 사후 59년만인 2013년 12월 24일에 엘리자베스 2세 여왕이 크리스 그레일링 법무부 장관의 건의를 받아들여 튜링의 동성애 죄를 사면하였다. 이어서 무죄 판결을 받고 복권되었다.\n",
      "\n",
      "표 . 연표\n",
      "\n",
      "생애\n",
      "튜링은 1912년 아버지 줄리어스 매시슨 튜링과 에설 사라의 둘째 아들로 태어났다. 그의 어머니는 그를 인도(차트라프루)에서 임신했지만 영국에서 낳기 원해 런던(패딩턴)으로 가서 그를 출산했다. 어려서부터 총명하여 3주 만에 읽기를 배웠으며 계산과 퍼즐에 능했다고 한다.\n",
      "1931년 케임브리지 대학교 킹스 칼리지에 입학해 수학 전공으로 학사학위를 취득하고, 1935년 확률론 계산에서 한계중심정리에 관한 학위논문으로 킹스 칼리지 특별연구원이 되었다. 1936년 미국의 프린스턴 대학교 대학원에 입학하여 박사학위를 받았다. 1937년 영국으로 돌아와 대학에서 연구 중 튜링 기계의 개념을 도입한 논문 〈계산 가능한 수와 결정할 문제에의 응용〉을 발표했다.\n",
      "1938년 9월 블레츨리 정부 암호학교 GCCS(현 GCHQ)에 들어갔고, 1939년 9월 4일 제2차 세계 대전이 발발한 후 독일군의 에니그마 암호를 해독하는 Hut 8의 책임자가 되어 폴란드 정보부에서 제작한 에니그마 해독기 'Bomby'를 개선한 '봄브(The Bombe)'를 개발했다. 이런 경험에서 만든 계산 이론은 후일 영국에서 개발되는 콜로서스(프로그래밍 가능 전자 컴퓨터)의 기술적 토대가 되기도 했다.\n",
      "앨런 튜링은 1951년에 영국에서 범죄로 인식되던 동성애 혐의로 체포된 후 징역형과 화학적 거세형 중 선택을 해야 했고, 튜링은 연구를 계속하기 위해 거세를 선택하여 1년간 에스트로겐 주사를 맞았다. 그는 1954년 6월 8일에 죽은 채로 발견되었고, 주변에 반쯤 먹은 사과가 놓여 있었다. 부검 결과 치사량의 사이안화 칼륨(청산가리)을 주사한 사과를 먹고 자살한 것으로 밝혀졌다.\n"
     ]
    }
   ],
   "source": [
    "본문 = 튜링.extract_text()\n",
    "print(본문)"
   ]
  },
  {
   "cell_type": "code",
   "execution_count": 60,
   "metadata": {
    "collapsed": true
   },
   "outputs": [
    {
     "data": {
      "text/plain": [
       "'앨런 매티슨 튜링(영어: Alan Mathison Turing, OBE, FRS, 1912년 6월 23일 ~ 1954년 6월 7일)은 영국의 수학자, 암호학자, 논리학자이자 컴퓨터 과학의 선구적 인물이다. 1945년에 그가 고안한 튜링 머신은 초보적 형태의 컴퓨터로, 복잡한 계산과 논리 문제를 처리할 수 있었다. 알고리즘과 계산 개념을 튜링 기계라는 추상 모델을 통해 형식화함으로써 컴퓨터 과학의 발전에 지대한 공헌을 했다. 튜링 테스트의 고안으로도 유명하다. '"
      ]
     },
     "execution_count": 60,
     "metadata": {},
     "output_type": "execute_result"
    }
   ],
   "source": [
    "튜링.paragraphs[1].text"
   ]
  },
  {
   "cell_type": "code",
   "execution_count": 62,
   "metadata": {
    "collapsed": false
   },
   "outputs": [],
   "source": [
    "표목록 = 튜링.extract_tables()"
   ]
  },
  {
   "cell_type": "code",
   "execution_count": 63,
   "metadata": {
    "collapsed": true
   },
   "outputs": [
    {
     "data": {
      "text/html": [
       "<div>\n",
       "<table border=\"1\" class=\"dataframe\">\n",
       "  <thead>\n",
       "    <tr style=\"text-align: right;\">\n",
       "      <th></th>\n",
       "      <th>0</th>\n",
       "      <th>1</th>\n",
       "    </tr>\n",
       "  </thead>\n",
       "  <tbody>\n",
       "    <tr>\n",
       "      <th>0</th>\n",
       "      <td>연도</td>\n",
       "      <td>요약</td>\n",
       "    </tr>\n",
       "    <tr>\n",
       "      <th>1</th>\n",
       "      <td>1912</td>\n",
       "      <td>6월 23일 앨런 매시슨 튜링(Alan Mathison Turing), 런던에서 출...</td>\n",
       "    </tr>\n",
       "    <tr>\n",
       "      <th>2</th>\n",
       "      <td>1926</td>\n",
       "      <td>셔본 스쿨(Sherborne School) 입학</td>\n",
       "    </tr>\n",
       "    <tr>\n",
       "      <th>3</th>\n",
       "      <td>1931</td>\n",
       "      <td>수학 연구를 위해 케임브리지 대학교 킹스 칼리지에 입학</td>\n",
       "    </tr>\n",
       "    <tr>\n",
       "      <th>4</th>\n",
       "      <td>1934</td>\n",
       "      <td>수학 학사학위 취득</td>\n",
       "    </tr>\n",
       "    <tr>\n",
       "      <th>5</th>\n",
       "      <td>1935</td>\n",
       "      <td>확률론 계산에서 중심극한정리에 관한 학위논문으로 킹스 칼리지 특별 연구원 취득</td>\n",
       "    </tr>\n",
       "    <tr>\n",
       "      <th>6</th>\n",
       "      <td>1936</td>\n",
       "      <td>다비트 힐베르트가 제시한 결정가능성 문제(Entscheidungsproblem)의 ...</td>\n",
       "    </tr>\n",
       "    <tr>\n",
       "      <th>7</th>\n",
       "      <td>1936</td>\n",
       "      <td>알론조 처치, 존 폰 노이만 등과 함께 프린스턴 대학교에서 연구 지속</td>\n",
       "    </tr>\n",
       "    <tr>\n",
       "      <th>8</th>\n",
       "      <td>1937</td>\n",
       "      <td>《런던 수학협회 의사록》 중 〈계산 가능한 수와 결정할 문제에의 응용〉 출간</td>\n",
       "    </tr>\n",
       "    <tr>\n",
       "      <th>9</th>\n",
       "      <td>1937</td>\n",
       "      <td>프린스턴 대학교에서 프록터(Procter)장학금 수여</td>\n",
       "    </tr>\n",
       "    <tr>\n",
       "      <th>10</th>\n",
       "      <td>1938</td>\n",
       "      <td>영국으로 들어와 정부암호학교(Goverment Code and Cypher Scho...</td>\n",
       "    </tr>\n",
       "    <tr>\n",
       "      <th>11</th>\n",
       "      <td>1939</td>\n",
       "      <td>9월 1일, 제2차 세계 대전 시작</td>\n",
       "    </tr>\n",
       "    <tr>\n",
       "      <th>12</th>\n",
       "      <td>1939</td>\n",
       "      <td>블레츨리 파크(Bletchley Park)의 GCCS 부서에서 영국을 포위하고 있는...</td>\n",
       "    </tr>\n",
       "    <tr>\n",
       "      <th>13</th>\n",
       "      <td>1942</td>\n",
       "      <td>GCCS를 위한 수석 연구 자문위원</td>\n",
       "    </tr>\n",
       "    <tr>\n",
       "      <th>14</th>\n",
       "      <td>1942</td>\n",
       "      <td>미국 암호부서와의 접촉을 위해 미국에 비밀리에 입국</td>\n",
       "    </tr>\n",
       "    <tr>\n",
       "      <th>15</th>\n",
       "      <td>1943</td>\n",
       "      <td>1-3월간 벨 연구소에서 음성 해독 문제에 관해 작업</td>\n",
       "    </tr>\n",
       "    <tr>\n",
       "      <th>16</th>\n",
       "      <td>1944</td>\n",
       "      <td>음성 암호화 전자기 델리아(Deliah) Ⅰ에 대한 작업 실시</td>\n",
       "    </tr>\n",
       "    <tr>\n",
       "      <th>17</th>\n",
       "      <td>1945</td>\n",
       "      <td>제2차 세계 대전 종료</td>\n",
       "    </tr>\n",
       "    <tr>\n",
       "      <th>18</th>\n",
       "      <td>1945</td>\n",
       "      <td>컴퓨터의 자동 계산 기계(Automatic Computing Engine; ACE)...</td>\n",
       "    </tr>\n",
       "    <tr>\n",
       "      <th>19</th>\n",
       "      <td>1947</td>\n",
       "      <td>행정적, 이론적 이유로 NPL을 떠나 케임브리지로 돌아옴</td>\n",
       "    </tr>\n",
       "    <tr>\n",
       "      <th>20</th>\n",
       "      <td>1947</td>\n",
       "      <td>생리학과 신경과학 수업 수강</td>\n",
       "    </tr>\n",
       "    <tr>\n",
       "      <th>21</th>\n",
       "      <td>1948</td>\n",
       "      <td>6월 실용화될 컴퓨터의 원형에 대한 작업을 위해 맨체스터 대학교 정보과학팀 합류</td>\n",
       "    </tr>\n",
       "    <tr>\n",
       "      <th>22</th>\n",
       "      <td>1950</td>\n",
       "      <td>철학지 《Mind》에 논문 〈계산기와 지능〉 게재</td>\n",
       "    </tr>\n",
       "    <tr>\n",
       "      <th>23</th>\n",
       "      <td>1951</td>\n",
       "      <td>왕립 학회 특별회원으로 선출</td>\n",
       "    </tr>\n",
       "    <tr>\n",
       "      <th>24</th>\n",
       "      <td>1951</td>\n",
       "      <td>동성애 혐의로 재판을 받고 여성호르몬을 투여하는 형을 받음</td>\n",
       "    </tr>\n",
       "    <tr>\n",
       "      <th>25</th>\n",
       "      <td>1952</td>\n",
       "      <td>《왕립 학회 회보》에 논문 〈형태 발생의 화학적 토대〉게재</td>\n",
       "    </tr>\n",
       "    <tr>\n",
       "      <th>26</th>\n",
       "      <td>1954</td>\n",
       "      <td>약간의 사이안화 칼륨에 담가 놓았던 사과를 먹음으로써 윔슬로에 있는 자택에서 6월 ...</td>\n",
       "    </tr>\n",
       "    <tr>\n",
       "      <th>27</th>\n",
       "      <td>2013</td>\n",
       "      <td>(사망 이후) 동성애 혐의에 대한 유죄가 정식으로 국왕 칙령을 통하여 사면됨</td>\n",
       "    </tr>\n",
       "  </tbody>\n",
       "</table>\n",
       "</div>"
      ],
      "text/plain": [
       "       0                                                  1\n",
       "0     연도                                                 요약\n",
       "1   1912  6월 23일 앨런 매시슨 튜링(Alan Mathison Turing), 런던에서 출...\n",
       "2   1926                         셔본 스쿨(Sherborne School) 입학\n",
       "3   1931                     수학 연구를 위해 케임브리지 대학교 킹스 칼리지에 입학\n",
       "4   1934                                         수학 학사학위 취득\n",
       "5   1935        확률론 계산에서 중심극한정리에 관한 학위논문으로 킹스 칼리지 특별 연구원 취득\n",
       "6   1936  다비트 힐베르트가 제시한 결정가능성 문제(Entscheidungsproblem)의 ...\n",
       "7   1936             알론조 처치, 존 폰 노이만 등과 함께 프린스턴 대학교에서 연구 지속\n",
       "8   1937         《런던 수학협회 의사록》 중 〈계산 가능한 수와 결정할 문제에의 응용〉 출간\n",
       "9   1937                      프린스턴 대학교에서 프록터(Procter)장학금 수여\n",
       "10  1938  영국으로 들어와 정부암호학교(Goverment Code and Cypher Scho...\n",
       "11  1939                                9월 1일, 제2차 세계 대전 시작\n",
       "12  1939  블레츨리 파크(Bletchley Park)의 GCCS 부서에서 영국을 포위하고 있는...\n",
       "13  1942                                GCCS를 위한 수석 연구 자문위원\n",
       "14  1942                       미국 암호부서와의 접촉을 위해 미국에 비밀리에 입국\n",
       "15  1943                      1-3월간 벨 연구소에서 음성 해독 문제에 관해 작업\n",
       "16  1944                 음성 암호화 전자기 델리아(Deliah) Ⅰ에 대한 작업 실시\n",
       "17  1945                                       제2차 세계 대전 종료\n",
       "18  1945  컴퓨터의 자동 계산 기계(Automatic Computing Engine; ACE)...\n",
       "19  1947                    행정적, 이론적 이유로 NPL을 떠나 케임브리지로 돌아옴\n",
       "20  1947                                    생리학과 신경과학 수업 수강\n",
       "21  1948       6월 실용화될 컴퓨터의 원형에 대한 작업을 위해 맨체스터 대학교 정보과학팀 합류\n",
       "22  1950                        철학지 《Mind》에 논문 〈계산기와 지능〉 게재\n",
       "23  1951                                    왕립 학회 특별회원으로 선출\n",
       "24  1951                   동성애 혐의로 재판을 받고 여성호르몬을 투여하는 형을 받음\n",
       "25  1952                   《왕립 학회 회보》에 논문 〈형태 발생의 화학적 토대〉게재\n",
       "26  1954  약간의 사이안화 칼륨에 담가 놓았던 사과를 먹음으로써 윔슬로에 있는 자택에서 6월 ...\n",
       "27  2013         (사망 이후) 동성애 혐의에 대한 유죄가 정식으로 국왕 칙령을 통하여 사면됨"
      ]
     },
     "execution_count": 63,
     "metadata": {},
     "output_type": "execute_result"
    }
   ],
   "source": [
    "표목록[0]"
   ]
  },
  {
   "cell_type": "markdown",
   "metadata": {},
   "source": [
    "## 워드 파일 쓰기"
   ]
  },
  {
   "cell_type": "markdown",
   "metadata": {},
   "source": [
    "새 파일은 경로를 지정하지 않습니다."
   ]
  },
  {
   "cell_type": "code",
   "execution_count": 64,
   "metadata": {
    "collapsed": true
   },
   "outputs": [],
   "source": [
    "워드파일 = office.Word()"
   ]
  },
  {
   "cell_type": "markdown",
   "metadata": {},
   "source": [
    "문단 추가"
   ]
  },
  {
   "cell_type": "code",
   "execution_count": 65,
   "metadata": {
    "collapsed": false
   },
   "outputs": [
    {
     "data": {
      "text/plain": [
       "<docx.text.paragraph.Paragraph at 0x9bdc4e0>"
      ]
     },
     "execution_count": 65,
     "metadata": {},
     "output_type": "execute_result"
    }
   ],
   "source": [
    "워드파일.add_paragraph('pyautomate')"
   ]
  },
  {
   "cell_type": "code",
   "execution_count": 67,
   "metadata": {
    "collapsed": false
   },
   "outputs": [
    {
     "data": {
      "text/plain": [
       "'pyautomate'"
      ]
     },
     "execution_count": 67,
     "metadata": {},
     "output_type": "execute_result"
    }
   ],
   "source": [
    "워드파일.paragraphs[0].text"
   ]
  },
  {
   "cell_type": "markdown",
   "metadata": {},
   "source": [
    "저장을 해야 반영됩니다."
   ]
  },
  {
   "cell_type": "code",
   "execution_count": 68,
   "metadata": {
    "collapsed": true
   },
   "outputs": [],
   "source": [
    "워드파일.save('오토 파이썬.docx')"
   ]
  },
  {
   "cell_type": "code",
   "execution_count": 69,
   "metadata": {
    "collapsed": true
   },
   "outputs": [],
   "source": [
    "워드파일 = office.Word('오토 파이썬.docx')"
   ]
  },
  {
   "cell_type": "code",
   "execution_count": 70,
   "metadata": {
    "collapsed": false
   },
   "outputs": [
    {
     "data": {
      "text/plain": [
       "<docx.text.paragraph.Paragraph at 0x9be2780>"
      ]
     },
     "execution_count": 70,
     "metadata": {},
     "output_type": "execute_result"
    }
   ],
   "source": [
    "워드파일.add_paragraph('파이썬으로 게을러지는 방법을 골똘히 고민합니다.')"
   ]
  },
  {
   "cell_type": "code",
   "execution_count": 72,
   "metadata": {
    "collapsed": false
   },
   "outputs": [
    {
     "name": "stdout",
     "output_type": "stream",
     "text": [
      "pyautomate\n",
      "파이썬으로 게을러지는 방법을 골똘히 고민합니다.\n"
     ]
    }
   ],
   "source": [
    "본문 = 워드파일.extract_text()\n",
    "print(본문)"
   ]
  },
  {
   "cell_type": "code",
   "execution_count": 73,
   "metadata": {
    "collapsed": true
   },
   "outputs": [],
   "source": [
    "워드파일.save('오토 파이썬.docx')"
   ]
  },
  {
   "cell_type": "code",
   "execution_count": null,
   "metadata": {
    "collapsed": true
   },
   "outputs": [],
   "source": []
  }
 ],
 "metadata": {
  "kernelspec": {
   "display_name": "Python 3",
   "language": "python",
   "name": "python3"
  },
  "language_info": {
   "codemirror_mode": {
    "name": "ipython",
    "version": 3
   },
   "file_extension": ".py",
   "mimetype": "text/x-python",
   "name": "python",
   "nbconvert_exporter": "python",
   "pygments_lexer": "ipython3",
   "version": "3.6.0"
  }
 },
 "nbformat": 4,
 "nbformat_minor": 2
}
